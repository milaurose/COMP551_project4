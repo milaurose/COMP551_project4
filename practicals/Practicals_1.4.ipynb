{
  "cells": [
    {
      "cell_type": "markdown",
      "id": "67e435b2",
      "metadata": {
        "id": "67e435b2"
      },
      "source": [
        "# Practicals for lecture 1.4\n",
        "\n",
        "[![Open In Colab](https://colab.research.google.com/assets/colab-badge.svg)](https://colab.research.google.com/github/vigji/python-cimec-2025/blob/main/practicals/Practicals_1.4.ipynb)"
      ]
    },
    {
      "cell_type": "markdown",
      "id": "7707a684",
      "metadata": {
        "id": "7707a684"
      },
      "source": [
        "#### 1.4.0 Organize a dataframe"
      ]
    },
    {
      "cell_type": "code",
      "execution_count": 1,
      "id": "0f2f3e6e",
      "metadata": {
        "id": "0f2f3e6e"
      },
      "outputs": [],
      "source": [
        "import numpy as np\n",
        "import pandas as pd\n",
        "\n",
        "\n",
        "# Let's have a look into how to organize data in a dataframe.\n",
        "\n",
        "# Use the following function that generates results for many subjects on\n",
        "# an experiment with experimental trials of different difficulty levels.\n",
        "\n",
        "def get_experiment_block_data(n_subjects=50, difficulty_levels=(1, 2, 3, 4, 5), n_repetitions=50):\n",
        "    \"\"\"Generate a dataframe with results from an experiment with experimental blocks.\n",
        "\n",
        "    Parameters\n",
        "    ----------\n",
        "    n_reps : int\n",
        "        Number of experimental blocks.\n",
        "    n_subjects : int\n",
        "        Number of subjects.\n",
        "    difficulty_levels : tuple\n",
        "        Difficulty levels of the experimental blocks.\n",
        "\n",
        "    Returns\n",
        "    -------\n",
        "    dict\n",
        "        A dictionary with the results of the experiment for each subject.\n",
        "\n",
        "\n",
        "    \"\"\"\n",
        "\n",
        "\n",
        "    np.random.seed(42)\n",
        "    subject_dict = dict()\n",
        "    for subject in range(n_subjects):\n",
        "        subject_ability = np.random.randint(1, 6)\n",
        "        difficulty_level_arr = np.random.choice(difficulty_levels, size=n_repetitions)\n",
        "        rt = np.random.normal(1000, 100, size=n_repetitions) * difficulty_level_arr / subject_ability\n",
        "        error = np.random.uniform(0, 1000*difficulty_level_arr / subject_ability, size=n_repetitions)\n",
        "\n",
        "        subject_dict[f\"subject_{subject}\"] = dict(\n",
        "            difficulty_level=difficulty_level_arr,\n",
        "            rt=rt,\n",
        "            error=error,\n",
        "        )\n",
        "\n",
        "    return subject_dict\n",
        "\n",
        "\n",
        "# Run the function to generate the data dictionary.\n",
        "data = get_experiment_block_data()\n",
        "\n",
        "# Data is a dictionary with an entry for every subject. Have a look!\n",
        "# Each entry is itself a list, with the trial by trial data\n",
        "# on task difficulty, rection times, and trial error."
      ]
    },
    {
      "cell_type": "code",
      "source": [
        "data['subject_0']"
      ],
      "metadata": {
        "id": "nWnW0p4j4Vf3",
        "outputId": "854a9b84-9a78-4fd7-b3cf-4d22de4b6ef6",
        "colab": {
          "base_uri": "https://localhost:8080/"
        }
      },
      "id": "nWnW0p4j4Vf3",
      "execution_count": 3,
      "outputs": [
        {
          "output_type": "execute_result",
          "data": {
            "text/plain": [
              "{'difficulty_level': array([5, 3, 5, 5, 2, 3, 3, 3, 5, 4, 3, 5, 2, 4, 2, 4, 5, 1, 4, 2, 5, 4,\n",
              "        1, 1, 3, 3, 2, 4, 4, 3, 4, 4, 1, 3, 5, 3, 5, 1, 2, 4, 1, 4, 2, 2,\n",
              "        1, 2, 5, 2, 4, 4]),\n",
              " 'rt': array([1122.30597567,  737.86834602, 1183.29389952, 1249.30901721,\n",
              "         488.52747731,  779.20116849,  655.11606646,  831.89941983,\n",
              "        1597.28913019, 1119.36397243,  766.3978737 , 1360.22012987,\n",
              "         449.54573286,  841.67057865,  538.68502084,  946.18583383,\n",
              "        1081.66523783,  227.98521835,  886.94476953,  506.72144413,\n",
              "        1322.76534934, 1088.77484596,  272.35830825,  268.87494493,\n",
              "         734.46255824,  703.23919538,  424.59233552, 1109.96469758,\n",
              "         982.22678787,  719.22125185, 1117.97163447,  910.17920605,\n",
              "         270.86988548,  772.24210382, 1120.27126544,  744.31471912,\n",
              "        1371.62044172,  269.8898866 ,  574.77171264, 1033.8181252 ,\n",
              "         334.30740634,  907.96091949,  480.0680805 ,  496.95679563,\n",
              "         214.53123854,  552.12458087, 1362.94156133,  500.95001655,\n",
              "         946.55835463,  850.49461292]),\n",
              " 'error': array([ 944.43892318,  171.59862412,   96.22488729,  362.18931614,\n",
              "          80.61064363,  697.27323926,  606.09028467,  475.05281738,\n",
              "        1089.32573773,  803.6720769 ,  139.92754416, 1115.69874811,\n",
              "         269.67112096,  807.44015516,  448.04564996,  318.00347497,\n",
              "         137.56490566,   56.98379064,  427.10778863,  409.00738296,\n",
              "        1075.91322907,    6.95213053,  127.68682564,  104.35275079,\n",
              "         166.58085785,   89.8990255 ,  168.8075857 ,  942.90970391,\n",
              "         323.20293202,  389.09296631,  703.0189589 ,  363.62960238,\n",
              "         242.94552068,  721.83547121,  314.72786978,  372.93637942,\n",
              "         376.09788727,   71.21012359,   18.44347368,  609.56433398,\n",
              "         125.66975581,   51.47875125,  139.32323212,  454.13294298,\n",
              "          59.89047267,   72.44743605,  611.81595035,  492.82522706,\n",
              "         242.05527151,  672.13554741])}"
            ]
          },
          "metadata": {},
          "execution_count": 3
        }
      ]
    },
    {
      "cell_type": "code",
      "execution_count": 4,
      "id": "4455c53f",
      "metadata": {
        "id": "4455c53f",
        "outputId": "c55c9618-a3c9-4689-bbfb-40a9c7fe7f4f",
        "colab": {
          "base_uri": "https://localhost:8080/",
          "height": 424
        }
      },
      "outputs": [
        {
          "output_type": "execute_result",
          "data": {
            "text/plain": [
              "         subject  difficulty_level           rt        error\n",
              "0      subject_0                 5  1122.305976   944.438923\n",
              "1      subject_0                 3   737.868346   171.598624\n",
              "2      subject_0                 5  1183.293900    96.224887\n",
              "3      subject_0                 5  1249.309017   362.189316\n",
              "4      subject_0                 2   488.527477    80.610644\n",
              "...          ...               ...          ...          ...\n",
              "2495  subject_49                 2  1205.314018   537.379190\n",
              "2496  subject_49                 5  2411.307870  2101.962680\n",
              "2497  subject_49                 1   505.467029    16.713267\n",
              "2498  subject_49                 2  1129.582707   366.752076\n",
              "2499  subject_49                 5  2641.606257   592.675978\n",
              "\n",
              "[2500 rows x 4 columns]"
            ],
            "text/html": [
              "\n",
              "  <div id=\"df-1854d14a-a09a-43c7-8129-33b803fa2619\" class=\"colab-df-container\">\n",
              "    <div>\n",
              "<style scoped>\n",
              "    .dataframe tbody tr th:only-of-type {\n",
              "        vertical-align: middle;\n",
              "    }\n",
              "\n",
              "    .dataframe tbody tr th {\n",
              "        vertical-align: top;\n",
              "    }\n",
              "\n",
              "    .dataframe thead th {\n",
              "        text-align: right;\n",
              "    }\n",
              "</style>\n",
              "<table border=\"1\" class=\"dataframe\">\n",
              "  <thead>\n",
              "    <tr style=\"text-align: right;\">\n",
              "      <th></th>\n",
              "      <th>subject</th>\n",
              "      <th>difficulty_level</th>\n",
              "      <th>rt</th>\n",
              "      <th>error</th>\n",
              "    </tr>\n",
              "  </thead>\n",
              "  <tbody>\n",
              "    <tr>\n",
              "      <th>0</th>\n",
              "      <td>subject_0</td>\n",
              "      <td>5</td>\n",
              "      <td>1122.305976</td>\n",
              "      <td>944.438923</td>\n",
              "    </tr>\n",
              "    <tr>\n",
              "      <th>1</th>\n",
              "      <td>subject_0</td>\n",
              "      <td>3</td>\n",
              "      <td>737.868346</td>\n",
              "      <td>171.598624</td>\n",
              "    </tr>\n",
              "    <tr>\n",
              "      <th>2</th>\n",
              "      <td>subject_0</td>\n",
              "      <td>5</td>\n",
              "      <td>1183.293900</td>\n",
              "      <td>96.224887</td>\n",
              "    </tr>\n",
              "    <tr>\n",
              "      <th>3</th>\n",
              "      <td>subject_0</td>\n",
              "      <td>5</td>\n",
              "      <td>1249.309017</td>\n",
              "      <td>362.189316</td>\n",
              "    </tr>\n",
              "    <tr>\n",
              "      <th>4</th>\n",
              "      <td>subject_0</td>\n",
              "      <td>2</td>\n",
              "      <td>488.527477</td>\n",
              "      <td>80.610644</td>\n",
              "    </tr>\n",
              "    <tr>\n",
              "      <th>...</th>\n",
              "      <td>...</td>\n",
              "      <td>...</td>\n",
              "      <td>...</td>\n",
              "      <td>...</td>\n",
              "    </tr>\n",
              "    <tr>\n",
              "      <th>2495</th>\n",
              "      <td>subject_49</td>\n",
              "      <td>2</td>\n",
              "      <td>1205.314018</td>\n",
              "      <td>537.379190</td>\n",
              "    </tr>\n",
              "    <tr>\n",
              "      <th>2496</th>\n",
              "      <td>subject_49</td>\n",
              "      <td>5</td>\n",
              "      <td>2411.307870</td>\n",
              "      <td>2101.962680</td>\n",
              "    </tr>\n",
              "    <tr>\n",
              "      <th>2497</th>\n",
              "      <td>subject_49</td>\n",
              "      <td>1</td>\n",
              "      <td>505.467029</td>\n",
              "      <td>16.713267</td>\n",
              "    </tr>\n",
              "    <tr>\n",
              "      <th>2498</th>\n",
              "      <td>subject_49</td>\n",
              "      <td>2</td>\n",
              "      <td>1129.582707</td>\n",
              "      <td>366.752076</td>\n",
              "    </tr>\n",
              "    <tr>\n",
              "      <th>2499</th>\n",
              "      <td>subject_49</td>\n",
              "      <td>5</td>\n",
              "      <td>2641.606257</td>\n",
              "      <td>592.675978</td>\n",
              "    </tr>\n",
              "  </tbody>\n",
              "</table>\n",
              "<p>2500 rows × 4 columns</p>\n",
              "</div>\n",
              "    <div class=\"colab-df-buttons\">\n",
              "\n",
              "  <div class=\"colab-df-container\">\n",
              "    <button class=\"colab-df-convert\" onclick=\"convertToInteractive('df-1854d14a-a09a-43c7-8129-33b803fa2619')\"\n",
              "            title=\"Convert this dataframe to an interactive table.\"\n",
              "            style=\"display:none;\">\n",
              "\n",
              "  <svg xmlns=\"http://www.w3.org/2000/svg\" height=\"24px\" viewBox=\"0 -960 960 960\">\n",
              "    <path d=\"M120-120v-720h720v720H120Zm60-500h600v-160H180v160Zm220 220h160v-160H400v160Zm0 220h160v-160H400v160ZM180-400h160v-160H180v160Zm440 0h160v-160H620v160ZM180-180h160v-160H180v160Zm440 0h160v-160H620v160Z\"/>\n",
              "  </svg>\n",
              "    </button>\n",
              "\n",
              "  <style>\n",
              "    .colab-df-container {\n",
              "      display:flex;\n",
              "      gap: 12px;\n",
              "    }\n",
              "\n",
              "    .colab-df-convert {\n",
              "      background-color: #E8F0FE;\n",
              "      border: none;\n",
              "      border-radius: 50%;\n",
              "      cursor: pointer;\n",
              "      display: none;\n",
              "      fill: #1967D2;\n",
              "      height: 32px;\n",
              "      padding: 0 0 0 0;\n",
              "      width: 32px;\n",
              "    }\n",
              "\n",
              "    .colab-df-convert:hover {\n",
              "      background-color: #E2EBFA;\n",
              "      box-shadow: 0px 1px 2px rgba(60, 64, 67, 0.3), 0px 1px 3px 1px rgba(60, 64, 67, 0.15);\n",
              "      fill: #174EA6;\n",
              "    }\n",
              "\n",
              "    .colab-df-buttons div {\n",
              "      margin-bottom: 4px;\n",
              "    }\n",
              "\n",
              "    [theme=dark] .colab-df-convert {\n",
              "      background-color: #3B4455;\n",
              "      fill: #D2E3FC;\n",
              "    }\n",
              "\n",
              "    [theme=dark] .colab-df-convert:hover {\n",
              "      background-color: #434B5C;\n",
              "      box-shadow: 0px 1px 3px 1px rgba(0, 0, 0, 0.15);\n",
              "      filter: drop-shadow(0px 1px 2px rgba(0, 0, 0, 0.3));\n",
              "      fill: #FFFFFF;\n",
              "    }\n",
              "  </style>\n",
              "\n",
              "    <script>\n",
              "      const buttonEl =\n",
              "        document.querySelector('#df-1854d14a-a09a-43c7-8129-33b803fa2619 button.colab-df-convert');\n",
              "      buttonEl.style.display =\n",
              "        google.colab.kernel.accessAllowed ? 'block' : 'none';\n",
              "\n",
              "      async function convertToInteractive(key) {\n",
              "        const element = document.querySelector('#df-1854d14a-a09a-43c7-8129-33b803fa2619');\n",
              "        const dataTable =\n",
              "          await google.colab.kernel.invokeFunction('convertToInteractive',\n",
              "                                                    [key], {});\n",
              "        if (!dataTable) return;\n",
              "\n",
              "        const docLinkHtml = 'Like what you see? Visit the ' +\n",
              "          '<a target=\"_blank\" href=https://colab.research.google.com/notebooks/data_table.ipynb>data table notebook</a>'\n",
              "          + ' to learn more about interactive tables.';\n",
              "        element.innerHTML = '';\n",
              "        dataTable['output_type'] = 'display_data';\n",
              "        await google.colab.output.renderOutput(dataTable, element);\n",
              "        const docLink = document.createElement('div');\n",
              "        docLink.innerHTML = docLinkHtml;\n",
              "        element.appendChild(docLink);\n",
              "      }\n",
              "    </script>\n",
              "  </div>\n",
              "\n",
              "\n",
              "    <div id=\"df-fdf1da5e-3922-4182-9b1b-e75856ecb99f\">\n",
              "      <button class=\"colab-df-quickchart\" onclick=\"quickchart('df-fdf1da5e-3922-4182-9b1b-e75856ecb99f')\"\n",
              "                title=\"Suggest charts\"\n",
              "                style=\"display:none;\">\n",
              "\n",
              "<svg xmlns=\"http://www.w3.org/2000/svg\" height=\"24px\"viewBox=\"0 0 24 24\"\n",
              "     width=\"24px\">\n",
              "    <g>\n",
              "        <path d=\"M19 3H5c-1.1 0-2 .9-2 2v14c0 1.1.9 2 2 2h14c1.1 0 2-.9 2-2V5c0-1.1-.9-2-2-2zM9 17H7v-7h2v7zm4 0h-2V7h2v10zm4 0h-2v-4h2v4z\"/>\n",
              "    </g>\n",
              "</svg>\n",
              "      </button>\n",
              "\n",
              "<style>\n",
              "  .colab-df-quickchart {\n",
              "      --bg-color: #E8F0FE;\n",
              "      --fill-color: #1967D2;\n",
              "      --hover-bg-color: #E2EBFA;\n",
              "      --hover-fill-color: #174EA6;\n",
              "      --disabled-fill-color: #AAA;\n",
              "      --disabled-bg-color: #DDD;\n",
              "  }\n",
              "\n",
              "  [theme=dark] .colab-df-quickchart {\n",
              "      --bg-color: #3B4455;\n",
              "      --fill-color: #D2E3FC;\n",
              "      --hover-bg-color: #434B5C;\n",
              "      --hover-fill-color: #FFFFFF;\n",
              "      --disabled-bg-color: #3B4455;\n",
              "      --disabled-fill-color: #666;\n",
              "  }\n",
              "\n",
              "  .colab-df-quickchart {\n",
              "    background-color: var(--bg-color);\n",
              "    border: none;\n",
              "    border-radius: 50%;\n",
              "    cursor: pointer;\n",
              "    display: none;\n",
              "    fill: var(--fill-color);\n",
              "    height: 32px;\n",
              "    padding: 0;\n",
              "    width: 32px;\n",
              "  }\n",
              "\n",
              "  .colab-df-quickchart:hover {\n",
              "    background-color: var(--hover-bg-color);\n",
              "    box-shadow: 0 1px 2px rgba(60, 64, 67, 0.3), 0 1px 3px 1px rgba(60, 64, 67, 0.15);\n",
              "    fill: var(--button-hover-fill-color);\n",
              "  }\n",
              "\n",
              "  .colab-df-quickchart-complete:disabled,\n",
              "  .colab-df-quickchart-complete:disabled:hover {\n",
              "    background-color: var(--disabled-bg-color);\n",
              "    fill: var(--disabled-fill-color);\n",
              "    box-shadow: none;\n",
              "  }\n",
              "\n",
              "  .colab-df-spinner {\n",
              "    border: 2px solid var(--fill-color);\n",
              "    border-color: transparent;\n",
              "    border-bottom-color: var(--fill-color);\n",
              "    animation:\n",
              "      spin 1s steps(1) infinite;\n",
              "  }\n",
              "\n",
              "  @keyframes spin {\n",
              "    0% {\n",
              "      border-color: transparent;\n",
              "      border-bottom-color: var(--fill-color);\n",
              "      border-left-color: var(--fill-color);\n",
              "    }\n",
              "    20% {\n",
              "      border-color: transparent;\n",
              "      border-left-color: var(--fill-color);\n",
              "      border-top-color: var(--fill-color);\n",
              "    }\n",
              "    30% {\n",
              "      border-color: transparent;\n",
              "      border-left-color: var(--fill-color);\n",
              "      border-top-color: var(--fill-color);\n",
              "      border-right-color: var(--fill-color);\n",
              "    }\n",
              "    40% {\n",
              "      border-color: transparent;\n",
              "      border-right-color: var(--fill-color);\n",
              "      border-top-color: var(--fill-color);\n",
              "    }\n",
              "    60% {\n",
              "      border-color: transparent;\n",
              "      border-right-color: var(--fill-color);\n",
              "    }\n",
              "    80% {\n",
              "      border-color: transparent;\n",
              "      border-right-color: var(--fill-color);\n",
              "      border-bottom-color: var(--fill-color);\n",
              "    }\n",
              "    90% {\n",
              "      border-color: transparent;\n",
              "      border-bottom-color: var(--fill-color);\n",
              "    }\n",
              "  }\n",
              "</style>\n",
              "\n",
              "      <script>\n",
              "        async function quickchart(key) {\n",
              "          const quickchartButtonEl =\n",
              "            document.querySelector('#' + key + ' button');\n",
              "          quickchartButtonEl.disabled = true;  // To prevent multiple clicks.\n",
              "          quickchartButtonEl.classList.add('colab-df-spinner');\n",
              "          try {\n",
              "            const charts = await google.colab.kernel.invokeFunction(\n",
              "                'suggestCharts', [key], {});\n",
              "          } catch (error) {\n",
              "            console.error('Error during call to suggestCharts:', error);\n",
              "          }\n",
              "          quickchartButtonEl.classList.remove('colab-df-spinner');\n",
              "          quickchartButtonEl.classList.add('colab-df-quickchart-complete');\n",
              "        }\n",
              "        (() => {\n",
              "          let quickchartButtonEl =\n",
              "            document.querySelector('#df-fdf1da5e-3922-4182-9b1b-e75856ecb99f button');\n",
              "          quickchartButtonEl.style.display =\n",
              "            google.colab.kernel.accessAllowed ? 'block' : 'none';\n",
              "        })();\n",
              "      </script>\n",
              "    </div>\n",
              "\n",
              "  <div id=\"id_1ca9dcc6-8c46-4dde-b2ef-a24af7fcb3d0\">\n",
              "    <style>\n",
              "      .colab-df-generate {\n",
              "        background-color: #E8F0FE;\n",
              "        border: none;\n",
              "        border-radius: 50%;\n",
              "        cursor: pointer;\n",
              "        display: none;\n",
              "        fill: #1967D2;\n",
              "        height: 32px;\n",
              "        padding: 0 0 0 0;\n",
              "        width: 32px;\n",
              "      }\n",
              "\n",
              "      .colab-df-generate:hover {\n",
              "        background-color: #E2EBFA;\n",
              "        box-shadow: 0px 1px 2px rgba(60, 64, 67, 0.3), 0px 1px 3px 1px rgba(60, 64, 67, 0.15);\n",
              "        fill: #174EA6;\n",
              "      }\n",
              "\n",
              "      [theme=dark] .colab-df-generate {\n",
              "        background-color: #3B4455;\n",
              "        fill: #D2E3FC;\n",
              "      }\n",
              "\n",
              "      [theme=dark] .colab-df-generate:hover {\n",
              "        background-color: #434B5C;\n",
              "        box-shadow: 0px 1px 3px 1px rgba(0, 0, 0, 0.15);\n",
              "        filter: drop-shadow(0px 1px 2px rgba(0, 0, 0, 0.3));\n",
              "        fill: #FFFFFF;\n",
              "      }\n",
              "    </style>\n",
              "    <button class=\"colab-df-generate\" onclick=\"generateWithVariable('df_flat')\"\n",
              "            title=\"Generate code using this dataframe.\"\n",
              "            style=\"display:none;\">\n",
              "\n",
              "  <svg xmlns=\"http://www.w3.org/2000/svg\" height=\"24px\"viewBox=\"0 0 24 24\"\n",
              "       width=\"24px\">\n",
              "    <path d=\"M7,19H8.4L18.45,9,17,7.55,7,17.6ZM5,21V16.75L18.45,3.32a2,2,0,0,1,2.83,0l1.4,1.43a1.91,1.91,0,0,1,.58,1.4,1.91,1.91,0,0,1-.58,1.4L9.25,21ZM18.45,9,17,7.55Zm-12,3A5.31,5.31,0,0,0,4.9,8.1,5.31,5.31,0,0,0,1,6.5,5.31,5.31,0,0,0,4.9,4.9,5.31,5.31,0,0,0,6.5,1,5.31,5.31,0,0,0,8.1,4.9,5.31,5.31,0,0,0,12,6.5,5.46,5.46,0,0,0,6.5,12Z\"/>\n",
              "  </svg>\n",
              "    </button>\n",
              "    <script>\n",
              "      (() => {\n",
              "      const buttonEl =\n",
              "        document.querySelector('#id_1ca9dcc6-8c46-4dde-b2ef-a24af7fcb3d0 button.colab-df-generate');\n",
              "      buttonEl.style.display =\n",
              "        google.colab.kernel.accessAllowed ? 'block' : 'none';\n",
              "\n",
              "      buttonEl.onclick = () => {\n",
              "        google.colab.notebook.generateWithVariable('df_flat');\n",
              "      }\n",
              "      })();\n",
              "    </script>\n",
              "  </div>\n",
              "\n",
              "    </div>\n",
              "  </div>\n"
            ],
            "application/vnd.google.colaboratory.intrinsic+json": {
              "type": "dataframe",
              "variable_name": "df_flat",
              "summary": "{\n  \"name\": \"df_flat\",\n  \"rows\": 2500,\n  \"fields\": [\n    {\n      \"column\": \"subject\",\n      \"properties\": {\n        \"dtype\": \"category\",\n        \"num_unique_values\": 50,\n        \"samples\": [\n          \"subject_13\",\n          \"subject_39\",\n          \"subject_30\"\n        ],\n        \"semantic_type\": \"\",\n        \"description\": \"\"\n      }\n    },\n    {\n      \"column\": \"difficulty_level\",\n      \"properties\": {\n        \"dtype\": \"number\",\n        \"std\": 1,\n        \"min\": 1,\n        \"max\": 5,\n        \"num_unique_values\": 5,\n        \"samples\": [\n          3,\n          1,\n          2\n        ],\n        \"semantic_type\": \"\",\n        \"description\": \"\"\n      }\n    },\n    {\n      \"column\": \"rt\",\n      \"properties\": {\n        \"dtype\": \"number\",\n        \"std\": 1134.270942368771,\n        \"min\": 141.27675939801688,\n        \"max\": 6067.813050586615,\n        \"num_unique_values\": 2500,\n        \"samples\": [\n          1049.0828500618095,\n          948.7592912840303,\n          2583.4319658904683\n        ],\n        \"semantic_type\": \"\",\n        \"description\": \"\"\n      }\n    },\n    {\n      \"column\": \"error\",\n      \"properties\": {\n        \"dtype\": \"number\",\n        \"std\": 742.2940017005337,\n        \"min\": 0.0038782517887137043,\n        \"max\": 4971.651513428575,\n        \"num_unique_values\": 2500,\n        \"samples\": [\n          730.8796233222076,\n          683.4537774075089,\n          391.19179000900147\n        ],\n        \"semantic_type\": \"\",\n        \"description\": \"\"\n      }\n    }\n  ]\n}"
            }
          },
          "metadata": {},
          "execution_count": 4
        }
      ],
      "source": [
        "# Convert this nested data to a (flat) dataframe containing all data.\n",
        "# (Hint: you can create a DataFrame for every subject and then concatenate)\n",
        "# Bonus: If you used the hint above, did you get a futurewarning error? Can you think of a way to avoid this error?\n",
        "\n",
        "#here im not using the hint\n",
        "flat_list_of_dicts = []\n",
        "for sub in data.keys():\n",
        "  for difficulty_level, rt, error in zip(data[sub][\"difficulty_level\"], data[sub][\"rt\"], data[sub][\"error\"]):\n",
        "    trial_dict = {\"subject\": sub, \"difficulty_level\": difficulty_level, \"rt\": rt, \"error\": error} #add the subject number within that subjects dictionary\n",
        "    flat_list_of_dicts.append(trial_dict) #create a list of subject dictionaries\n",
        "df_flat = pd.DataFrame(flat_list_of_dicts)\n",
        "df_flat"
      ]
    },
    {
      "cell_type": "code",
      "source": [
        "#here I will do the same as above but creating a df for each subject\n",
        "df_flat_v2 = pd.DataFrame(0.0, index=[x for x in range(len(data.keys()))], columns=['subject'] + list(data['subject_0'].keys())) #preallocate\n",
        "df_flat_v3 = pd.DataFrame(columns =['subject'] + list(data['subject_0'].keys())) #version with completely empty, non preallocated\n",
        "for sub in data.keys():\n",
        "  df_sub = pd.DataFrame(data[sub])\n",
        "  df_sub[\"subject\"] = sub\n",
        "  df_flat_v2.loc[sub] = df_sub.iloc[0] #replace the preallocated values\n",
        "\n",
        "  #v3\n",
        "  df_flat_v3 = pd.concat([df_flat_v3, df_sub]) #in this version, we append\n"
      ],
      "metadata": {
        "id": "WOQaZLaM5TP_",
        "outputId": "3010eef3-fb50-4641-ecea-2b0c4bdc7835",
        "colab": {
          "base_uri": "https://localhost:8080/"
        }
      },
      "id": "WOQaZLaM5TP_",
      "execution_count": 22,
      "outputs": [
        {
          "output_type": "stream",
          "name": "stderr",
          "text": [
            "<ipython-input-22-6a4b471e338c>:10: FutureWarning: The behavior of DataFrame concatenation with empty or all-NA entries is deprecated. In a future version, this will no longer exclude empty or all-NA columns when determining the result dtypes. To retain the old behavior, exclude the relevant entries before the concat operation.\n",
            "  df_flat_v3 = pd.concat([df_flat_v3, df_sub]) #in this version, we append\n"
          ]
        }
      ]
    },
    {
      "cell_type": "code",
      "execution_count": null,
      "id": "c01fd768",
      "metadata": {
        "id": "c01fd768"
      },
      "outputs": [],
      "source": [
        "# Select the data for subject 0, and create a scatter plot\n",
        "# with the reaction time as a function of the trial difficulty level\n",
        "# (Hint: remember the dataframe.plot() function from last lecture)\n"
      ]
    },
    {
      "cell_type": "code",
      "execution_count": null,
      "id": "77864f09",
      "metadata": {
        "id": "77864f09"
      },
      "outputs": [],
      "source": [
        "# Load the subjects dataframe from the csv file at the url:\n",
        "# https://raw.githubusercontent.com/vigji/python-cimec/main/practicals/data/subjects_df.csv\n",
        "\n",
        "subject_df = pd.read_csv(\"https://raw.githubusercontent.com/vigji/python-cimec/main/practicals/data/subjects_df.csv\",\n",
        "                         index_col=0)"
      ]
    },
    {
      "cell_type": "code",
      "execution_count": null,
      "id": "f5a1d632",
      "metadata": {
        "id": "f5a1d632"
      },
      "outputs": [],
      "source": [
        "# Now use boolean indexing on the subject dataframe to include only left-handed males\n",
        "# above 30 years in the analysis.\n",
        "# Plot the reaction time as a function of the trial difficulty\n",
        "# level for this subpopulation only:"
      ]
    },
    {
      "cell_type": "code",
      "execution_count": null,
      "id": "3aed3889",
      "metadata": {
        "id": "3aed3889"
      },
      "outputs": [],
      "source": [
        "# [Advanced]\n",
        "# The Allen Brain Observatory dataset (https://allensdk.readthedocs.io/en/latest/visual_coding_neuropixels.html)\n",
        "# contains electrophysiology data (single neuron activity) from hundreds of\n",
        "# recording sessions in the visual cortex of mice.\n",
        "\n",
        "# Here you find some of their data:\n",
        "\n",
        "# - a neuron_csv with information about individual neurons from all electrodes from all sessions\n",
        "#   Each neuron has a channel_id column that specifies which electrode it was recorded from\n",
        "#   link: https://github.com/vigji/python-cimec-2024/raw/main/practicals/data/allen_neurons.csv\n",
        "\n",
        "# - A channel_csv with information about individual electrodes from all sessions.\n",
        "#   Each channel has a session_id that specifies from which session it was recorded\n",
        "#   and a ecephys_structure_acronym column with the acronym of the brain area\n",
        "#   where the electrode was:\n",
        "#   link: https://github.com/vigji/python-cimec-2024/raw/main/practicals/data/allen_channels.csv\n",
        "\n",
        "# - A session_csv with information about all sessions and the animal that was recorded\n",
        "#   in that session.\n",
        "#   link: https://github.com/vigji/python-cimec-2024/raw/main/practicals/data/allen_sessions.csv\n",
        "\n",
        "# Use the read_csv function to read data from the links!\n",
        "import pandas as pd\n",
        "root_url_string = \"https://github.com/vigji/python-cimec-2024/raw/main/practicals/data/\"\n"
      ]
    },
    {
      "cell_type": "code",
      "execution_count": null,
      "id": "9bc50af0",
      "metadata": {
        "id": "9bc50af0"
      },
      "outputs": [],
      "source": [
        "# Select only neurons that were recorded in animals of wild type genotype (wt/wt)\n",
        "# and have a valid entry in the g_dsi_dg (their direction selectivity index)\n"
      ]
    },
    {
      "cell_type": "markdown",
      "id": "f08e3124",
      "metadata": {
        "id": "f08e3124"
      },
      "source": [
        "#### 1.4.1  `.groupby()` and index broadcasting"
      ]
    },
    {
      "cell_type": "code",
      "execution_count": null,
      "id": "6e12fcc4",
      "metadata": {
        "ExecuteTime": {
          "end_time": "2023-05-22T07:35:32.752413Z",
          "start_time": "2023-05-22T07:35:32.296106Z"
        },
        "id": "6e12fcc4"
      },
      "outputs": [],
      "source": [
        "# Take the meteo dataset using the function below\n",
        "import numpy as np\n",
        "\n",
        "def get_meteo_dataset():\n",
        "    \"\"\"Get a meteo dataset from the open-meteo API using a fixed window.\n",
        "    Note how easy it is to get data from the web with pandas! As long as we give the URL of the csv data, pandas can read it.\n",
        "    \"\"\"\n",
        "    np.random.seed(42)\n",
        "    # URL = \"https://api.open-meteo.com/v1/forecast?latitude=52.52&longitude=13.41&current=temperature_2m,relativehumidity_2m,precipitation,windspeed_10m,winddirection_10m&start_date=2023-02-10&end_date=2023-05-28&format=csv\"\n",
        "    URL = \"https://api.open-meteo.com/v1/forecast?latitude=52.52&longitude=13.41&current=temperature_2m,wind_speed_10m&hourly=temperature_2m,relative_humidity_2m,precipitation,wind_speed_10m,winddirection_10m&start_date=2024-04-01&end_date=2024-04-20&format=csv\"\n",
        "    df = pd.read_csv(URL, skiprows=6)  # read the csv file, skipping the first 3 rows (a header)\n",
        "    df.columns = [col.split(\" \")[0] for col in df.columns]  # simplify column names\n",
        "    df[\"time\"] = pd.to_datetime(df[\"time\"])  # convert the time column to datetime\n",
        "    df[\"hour\"], df[\"dayofyear\"] = df[\"time\"].dt.hour, df[\"time\"].dt.dayofyear  # extract the hour and day of year\n",
        "\n",
        "    # Here we artificially corrupt some of the data:\n",
        "    missing_idx = np.random.choice(df.index[:1000], 100)\n",
        "    df.loc[missing_idx, :] = np.nan\n",
        "    return df\n",
        "\n",
        "# This new meteo dataset has columns for the day of the year,\n",
        "# hour of the day, and day of the week.\n",
        "# Check out the data and make sure we don't have missing values!\n"
      ]
    },
    {
      "cell_type": "code",
      "execution_count": null,
      "id": "e6eebe25",
      "metadata": {
        "ExecuteTime": {
          "end_time": "2023-05-22T07:35:39.971697Z",
          "start_time": "2023-05-22T07:35:39.961574Z"
        },
        "id": "e6eebe25"
      },
      "outputs": [],
      "source": [
        "# Use the .groupby() method to compute the mean temperature for each hour of the day:"
      ]
    },
    {
      "cell_type": "code",
      "execution_count": null,
      "id": "b981630b",
      "metadata": {
        "id": "b981630b",
        "outputId": "6cdb73aa-fdf1-4ba4-9b82-74e3970c0895"
      },
      "outputs": [
        {
          "data": {
            "text/plain": [
              "<Axes: >"
            ]
          },
          "execution_count": 29,
          "metadata": {},
          "output_type": "execute_result"
        },
        {
          "data": {
            "image/png": "[encoded data removed]",
            "text/plain": [
              "<Figure size 640x480 with 1 Axes>"
            ]
          },
          "metadata": {},
          "output_type": "display_data"
        }
      ],
      "source": [
        "# Using pandas index broadcasting, subtract from each day of the year\n",
        "# its average temperature, and plot the result to check if it makes sense.\n",
        "# (Hint: you will have to set a new index to the dataframe\n",
        "# for the broadcasting to work):\n",
        "from matplotlib import pyplot as plt\n"
      ]
    },
    {
      "cell_type": "code",
      "execution_count": null,
      "id": "61ccbd69",
      "metadata": {
        "id": "61ccbd69"
      },
      "outputs": [],
      "source": [
        "# [Advanced]\n",
        "\n",
        "# From the Allen datasets you have loaded above, produce a new dataframe\n",
        "# that for every brain area has a column with the average firing rate\n",
        "# and a column with the average direction selectivity index for that area.\n",
        "\n",
        "# Sort the areas by average DSI; do the first acronyms that you see\n",
        "# make sense? (to find the meanings of the acronyms, you can read the\n",
        "# structures csv file at\n",
        "# https://github.com/vigji/python-cimec-2024/raw/main/practicals/data/allen_structures.csv\n",
        "\n"
      ]
    },
    {
      "cell_type": "code",
      "execution_count": null,
      "id": "ce5072ab",
      "metadata": {
        "id": "ce5072ab"
      },
      "outputs": [],
      "source": [
        "# [Advanced]\n",
        "\n",
        "# Now, let's make a new column \"Z-scored firing rate\" where, for every neuron,\n",
        "# we add the firing rate z-scored within each brain area.\n",
        "# Compute mean and std of firing rate for every area, and compute the Z-score\n",
        "# for every neuron using the mean and std for the brain area it belongs to!\n",
        "# (no for loops of course)\n",
        "\n",
        "mean_per_area = neurons_df.groupby(\"brain_area\")[\"firing_rate\"].mean()\n",
        "std_per_area = neurons_df.groupby(\"brain_area\")[\"firing_rate\"].std()\n",
        "\n",
        "reindexed_neurons_df = neurons_df.set_index(\"brain_area\")[\"firing_rate\"]\n",
        "\n",
        "# For the final assignment, we have to either make the index matching with reset_index\n",
        "# or use the numpy version of the series with no index information:\n",
        "normalized_fr_series = (reindexed_neurons_df - mean_per_area) / std_per_area\n",
        "neurons_df[\"norm_firing_rate\"] = normalized_fr_series.values"
      ]
    },
    {
      "cell_type": "markdown",
      "id": "89443646",
      "metadata": {
        "id": "89443646"
      },
      "source": [
        "#### 1.4.2 `.rolling()`"
      ]
    },
    {
      "cell_type": "code",
      "execution_count": null,
      "id": "d4cb9f4c",
      "metadata": {
        "ExecuteTime": {
          "end_time": "2023-05-22T08:23:06.492706Z",
          "start_time": "2023-05-22T08:23:06.407328Z"
        },
        "id": "d4cb9f4c"
      },
      "outputs": [],
      "source": [
        "# Compute the maximum and the minimum of the temperature using a rolling window of 24 samples.\n",
        "# Plot the original curve and the smoothed one to check what you did:\n",
        "\n"
      ]
    },
    {
      "cell_type": "code",
      "execution_count": null,
      "id": "b0832203",
      "metadata": {
        "id": "b0832203"
      },
      "outputs": [],
      "source": []
    }
  ],
  "metadata": {
    "kernelspec": {
      "display_name": "lab-env",
      "language": "python",
      "name": "python3"
    },
    "language_info": {
      "codemirror_mode": {
        "name": "ipython",
        "version": 3
      },
      "file_extension": ".py",
      "mimetype": "text/x-python",
      "name": "python",
      "nbconvert_exporter": "python",
      "pygments_lexer": "ipython3",
      "version": "3.10.0"
    },
    "colab": {
      "provenance": []
    }
  },
  "nbformat": 4,
  "nbformat_minor": 5
}